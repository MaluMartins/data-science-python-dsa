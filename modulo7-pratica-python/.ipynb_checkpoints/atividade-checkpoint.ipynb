{
 "cells": [
  {
   "cell_type": "raw",
   "id": "6ebb0623-c329-4dc2-ae72-740d519e8e97",
   "metadata": {},
   "source": [
    "1. Faça um programa que tenha uma função chamada amplitude. A função deve receber uma lista e \n",
    "imprimir a amplitude.\n",
    "Crie também um código para testar sua função"
   ]
  },
  {
   "cell_type": "code",
   "execution_count": 1,
   "id": "cd48154f-29b7-46ee-89b7-d8bd2b4c4b02",
   "metadata": {
    "tags": []
   },
   "outputs": [
    {
     "name": "stdout",
     "output_type": "stream",
     "text": [
      "A amplitude é: 63\n"
     ]
    }
   ],
   "source": [
    "def amplitude(lista):\n",
    "    amp = max(lista) - min(lista)\n",
    "    return amp\n",
    "    \n",
    "lista = [12, 47, 32, 9, 72]\n",
    "print(\"A amplitude é:\", amplitude(lista))"
   ]
  },
  {
   "cell_type": "raw",
   "id": "75933aa8-00b8-410d-8c3d-111313004dbb",
   "metadata": {},
   "source": [
    "2. Faça uma função que receba uma string e imprima esta string na forma vertical"
   ]
  },
  {
   "cell_type": "code",
   "execution_count": 4,
   "id": "d6401e06-68a9-4e3e-9d14-4b49360b9c02",
   "metadata": {
    "tags": []
   },
   "outputs": [
    {
     "name": "stdin",
     "output_type": "stream",
     "text": [
      " python\n"
     ]
    },
    {
     "name": "stdout",
     "output_type": "stream",
     "text": [
      "p\n",
      "y\n",
      "t\n",
      "h\n",
      "o\n",
      "n\n"
     ]
    }
   ],
   "source": [
    "def vertical(string):\n",
    "    for i in string:\n",
    "        print(i)\n",
    "        \n",
    "palavra = input()\n",
    "vertical(palavra)"
   ]
  },
  {
   "cell_type": "raw",
   "id": "02172955-5712-4775-8bf2-deb2f2a02d18",
   "metadata": {},
   "source": [
    "3. Crie um programa que leia o peso de uma carga em números inteiros. Se o peso for até 10 kg, informe \n",
    "que o valor será de R$ 50,00. Entre 11 e 20 kg, informe que o valor será de R$ 80. Se for maior que 20 \n",
    "informe que o transporte não é aceito. Teste vários pesos."
   ]
  },
  {
   "cell_type": "code",
   "execution_count": 13,
   "id": "03c89e89-7db9-4d18-a89e-76b45e3dd077",
   "metadata": {
    "tags": []
   },
   "outputs": [
    {
     "name": "stdin",
     "output_type": "stream",
     "text": [
      " 21\n"
     ]
    },
    {
     "name": "stdout",
     "output_type": "stream",
     "text": [
      "O transporte para esse peso não é aceito\n"
     ]
    }
   ],
   "source": [
    "def verifica_peso(peso):\n",
    "    if peso <= 10:\n",
    "        print(\"O valor da carga é R$50,00\")\n",
    "    elif 10 < peso <= 20:\n",
    "        print(\"O valor da carga é R$80,00\")\n",
    "    else:\n",
    "        print(\"O transporte para esse peso não é aceito\")\n",
    "        \n",
    "peso = int(input())\n",
    "verifica_peso(peso)"
   ]
  }
 ],
 "metadata": {
  "kernelspec": {
   "display_name": "Python 3 (ipykernel)",
   "language": "python",
   "name": "python3"
  },
  "language_info": {
   "codemirror_mode": {
    "name": "ipython",
    "version": 3
   },
   "file_extension": ".py",
   "mimetype": "text/x-python",
   "name": "python",
   "nbconvert_exporter": "python",
   "pygments_lexer": "ipython3",
   "version": "3.11.5"
  }
 },
 "nbformat": 4,
 "nbformat_minor": 5
}
