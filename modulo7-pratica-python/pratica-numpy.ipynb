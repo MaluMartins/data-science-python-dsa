{
 "cells": [
  {
   "cell_type": "code",
   "execution_count": 2,
   "id": "5fbbdc64-c82b-4398-83e5-6dbf610151b3",
   "metadata": {
    "tags": []
   },
   "outputs": [],
   "source": [
    "import numpy as np"
   ]
  },
  {
   "cell_type": "code",
   "execution_count": 3,
   "id": "04d6293e-ea44-4d76-aabe-cc053f4a3827",
   "metadata": {},
   "outputs": [
    {
     "name": "stdout",
     "output_type": "stream",
     "text": [
      "[12 34 26 10 18]\n",
      "<class 'numpy.ndarray'>\n"
     ]
    }
   ],
   "source": [
    "mt = np.array([12, 34, 26, 10,18])\n",
    "print(mt)\n",
    "print(type(mt))"
   ]
  },
  {
   "cell_type": "code",
   "execution_count": 4,
   "id": "d8192fa5-cafc-4411-86e1-960447ac68f9",
   "metadata": {
    "tags": []
   },
   "outputs": [
    {
     "name": "stdout",
     "output_type": "stream",
     "text": [
      "[1. 2. 3.]\n",
      "[1 2 3]\n"
     ]
    }
   ],
   "source": [
    "mtfloat = np.array([1, 2, 3], dtype = np.float64)\n",
    "print(mtfloat)\n",
    "\n",
    "mtint = np.array([1, 2, 3], dtype = np.int32)\n",
    "print(mtint)"
   ]
  },
  {
   "cell_type": "code",
   "execution_count": 10,
   "id": "04f37189-7a37-40f2-b8cb-5252767d9d40",
   "metadata": {},
   "outputs": [
    {
     "name": "stdout",
     "output_type": "stream",
     "text": [
      "[0. 0. 0. 0.]\n",
      "[1. 1. 1. 1.]\n",
      "[1. 1. 1. 1.]\n",
      "[0 1 2 3]\n"
     ]
    }
   ],
   "source": [
    "zeros = np.zeros(4) #array com elementos 0\n",
    "print(zeros)\n",
    "um = np.ones(4) #array com elementos 1\n",
    "print(um)\n",
    "vazio = np.empty(4) #array com elementos NÃO INICIALIZADOS\n",
    "print(vazio)\n",
    "sequencia = np.arange(4)\n",
    "print(sequencia)"
   ]
  },
  {
   "cell_type": "code",
   "execution_count": 13,
   "id": "17c4ae64-7b03-433e-a7cf-6122c9d2b9e8",
   "metadata": {
    "tags": []
   },
   "outputs": [
    {
     "name": "stdout",
     "output_type": "stream",
     "text": [
      "[ 1.4     3.14    4.9999 -9.21  ]\n",
      "[ 1  3  4 -9]\n"
     ]
    }
   ],
   "source": [
    "# mudar o tipo dos elementos de um array\n",
    "new = np.array([1.4, 3.14, 4.9999, -9.210])\n",
    "print(new)\n",
    "newint = new.astype(np.int32)\n",
    "print(newint)"
   ]
  },
  {
   "cell_type": "code",
   "execution_count": 15,
   "id": "6f740cb3-1f72-4817-a12a-d5f681817f5a",
   "metadata": {
    "tags": []
   },
   "outputs": [
    {
     "name": "stdout",
     "output_type": "stream",
     "text": [
      "[[1 2 3]\n",
      " [4 5 6]\n",
      " [7 8 9]]\n"
     ]
    }
   ],
   "source": [
    "# criar uma matriz bidimensional\n",
    "matriz = np.array([[1,2,3],[4,5,6],[7,8,9]])\n",
    "print(matriz)"
   ]
  },
  {
   "cell_type": "code",
   "execution_count": 16,
   "id": "42f24df6-3447-48fa-917d-8843640a9e60",
   "metadata": {
    "tags": []
   },
   "outputs": [
    {
     "name": "stdout",
     "output_type": "stream",
     "text": [
      "[[0 0 0]\n",
      " [0 0 0]\n",
      " [0 0 0]]\n"
     ]
    }
   ],
   "source": [
    "# criar matrizes vazias tipificadas\n",
    "matzeros = np.zeros([3,3], dtype = int)\n",
    "print(matzeros)"
   ]
  },
  {
   "cell_type": "code",
   "execution_count": 19,
   "id": "f73313b4-4a8e-40fd-9e4a-28888bac0991",
   "metadata": {
    "tags": []
   },
   "outputs": [
    {
     "name": "stdout",
     "output_type": "stream",
     "text": [
      "[0.58039688 0.32102862 0.40356584 0.0115042  0.18882323]\n",
      "-------\n",
      "[-0.85104269  0.54127324  0.9744557  -0.65401551 -0.73901725]\n",
      "-------\n",
      "[[5.63629609 5.23472938 2.63098081 0.30258081]\n",
      " [8.04523235 7.57401632 1.6588654  7.3194391 ]\n",
      " [1.02531345 8.2274601  9.20937513 5.64463851]]\n"
     ]
    }
   ],
   "source": [
    "# matrizes de valores aleatorios\n",
    "#valores aleatórios entre zero e um\n",
    "ale = np.random.random((5))\n",
    "print(ale)\n",
    "print(\"-------\")\n",
    "#valores aleatórios distr. normal contendo negativos\n",
    "ale2= np.random.randn((5))\n",
    "print(ale2)\n",
    "print(\"-------\")\n",
    "#valores aleatórios 3 x 4\n",
    "ale3 = (10*np.random.random((3,4)))\n",
    "print(ale3)"
   ]
  },
  {
   "cell_type": "code",
   "execution_count": 20,
   "id": "97aef7c6-a8f0-480c-9313-9b5eaa250527",
   "metadata": {
    "tags": []
   },
   "outputs": [
    {
     "name": "stdout",
     "output_type": "stream",
     "text": [
      "[0.51182162 0.9504637  0.14415961]\n",
      "[[8 9 2 3]\n",
      " [8 4 2 8]\n",
      " [2 4 6 5]]\n"
     ]
    }
   ],
   "source": [
    "#outra forma de gerar aleatórios: uso de semente\n",
    "gnr = np.random.default_rng(1)\n",
    "ale5 = gnr.random(3)\n",
    "print (ale5)\n",
    "\n",
    "#gerar inteiros\n",
    "ale6 = gnr.integers(10, size=(3, 4))\n",
    "print(ale6)"
   ]
  },
  {
   "cell_type": "code",
   "execution_count": 24,
   "id": "5b1538dd-2a57-4881-8d44-a2d2e37dbda3",
   "metadata": {
    "tags": []
   },
   "outputs": [
    {
     "name": "stdout",
     "output_type": "stream",
     "text": [
      "[ 6 37 84 97  8]\n",
      "---------\n",
      "[[ 3 98 35 81 32]\n",
      " [96 31 61 87 64]\n",
      " [ 3 87 14 23 93]]\n"
     ]
    }
   ],
   "source": [
    "# array de inteiros aleatorios\n",
    "\n",
    "a = np.random.randint(100, size=(5)) #cria um array de 5 inteiros aleatórios de 0 a 100\n",
    "print(a)\n",
    "print(\"---------\")\n",
    "b = np.random.randint(100, size=(3, 5)) #cria uma matriz 3x5 com inteiros aleatorios de 0 a 100\n",
    "print(b)"
   ]
  },
  {
   "cell_type": "code",
   "execution_count": 30,
   "id": "5383faff-dc41-4648-99f4-d08f240bf4b2",
   "metadata": {
    "tags": []
   },
   "outputs": [
    {
     "name": "stdout",
     "output_type": "stream",
     "text": [
      "3\n"
     ]
    }
   ],
   "source": [
    "# escolher um número de uma lista de números\n",
    "c = np.random.choice([3, 5, 7, 9])\n",
    "print(c)"
   ]
  },
  {
   "cell_type": "code",
   "execution_count": 31,
   "id": "652b5870-6777-4f75-863f-249b6f39d217",
   "metadata": {
    "tags": []
   },
   "outputs": [
    {
     "name": "stdout",
     "output_type": "stream",
     "text": [
      "[7 5 7 5 7 5 7 7 3 7 7 7 7 5 3 5 7 7 5 5]\n"
     ]
    }
   ],
   "source": [
    "#escolher um número de uma lista e determinar suas probabilidades\n",
    "d = np.random.choice([3, 5, 7, 9], p=[0.1, 0.3, 0.6, 0.0], size=(20))\n",
    "print(d)"
   ]
  },
  {
   "cell_type": "code",
   "execution_count": 32,
   "id": "60094ea1-5bbf-4eab-913e-0dc224e1252d",
   "metadata": {
    "tags": []
   },
   "outputs": [
    {
     "name": "stdout",
     "output_type": "stream",
     "text": [
      "[11 12 13 14 15 16 17 18 19 20]\n"
     ]
    }
   ],
   "source": [
    "#unique remove repetições\n",
    "j = np.array([11, 12, 13, 14, 15, 16, 17, 12, 13, 11, 18, 19, 20])\n",
    "j = np.unique(j)\n",
    "print(j)"
   ]
  },
  {
   "cell_type": "code",
   "execution_count": 33,
   "id": "c138f478-d550-40fd-a2f2-4aa6d52a58eb",
   "metadata": {
    "tags": []
   },
   "outputs": [
    {
     "name": "stdout",
     "output_type": "stream",
     "text": [
      "[[17 22 43]\n",
      " [27 25 14]\n",
      " [15 24 32]]\n",
      "22\n",
      "(3, 3)\n"
     ]
    }
   ],
   "source": [
    "#funções específicas\n",
    "# cria a matriz bidimensional k\n",
    "k = np.array([[17,22,43],[27,25,14],[15,24,32]])\n",
    "# Mostra a matriz k\n",
    "print(k)\n",
    "# Mostra um elemento específico da matriz k\n",
    "print(k[0][1])\n",
    "# Mostra o tamanho das dimensões da matriz k\n",
    "print(k.shape)"
   ]
  },
  {
   "cell_type": "code",
   "execution_count": 34,
   "id": "047e9b5b-94d3-4a91-ac83-d9c4769ef903",
   "metadata": {
    "tags": []
   },
   "outputs": [
    {
     "name": "stdout",
     "output_type": "stream",
     "text": [
      "43\n",
      "14\n",
      "219\n",
      "24.333333333333332\n",
      "8.615231988880057\n"
     ]
    }
   ],
   "source": [
    "#Funções Matemáticas\n",
    "# Mostra o maior valor da matriz k\n",
    "print(k.max())\n",
    "# Mostra o menor valor da matriz k\n",
    "print(k.min())\n",
    "# Mostra a soma dos valores da matriz k\n",
    "print((k.sum()))\n",
    "# Mostra o valor da média dos valores da matriz k\n",
    "print(k.mean())\n",
    "# Mostra o valor do desvio padrão (standard deviation) dos valores da matiz k\n",
    "print(k.std())"
   ]
  },
  {
   "cell_type": "code",
   "execution_count": 35,
   "id": "167b9fa7-7c92-400a-8ad4-eb7a4b8be89e",
   "metadata": {
    "tags": []
   },
   "outputs": [
    {
     "name": "stdout",
     "output_type": "stream",
     "text": [
      "[1. 2. 3. 4. 5. 6.]\n",
      "[2.71828183e+00 5.45981500e+01 8.10308393e+03 8.88611052e+06\n",
      " 7.20048993e+10 4.31123155e+15]\n"
     ]
    }
   ],
   "source": [
    "#funções universais, aplicadas a todos os elementos\n",
    "# Mostra o valor da raiz quadrada de todos elementos\n",
    "k1 = np.array([1, 4, 9, 16, 25, 36])\n",
    "print(np.sqrt(k1))\n",
    "# Mostra o valor do exponencial de todos elementos\n",
    "print(np.exp(k1))"
   ]
  },
  {
   "cell_type": "code",
   "execution_count": 36,
   "id": "b33d40f8-faf2-4702-ba80-6a165a28061f",
   "metadata": {
    "tags": []
   },
   "outputs": [
    {
     "name": "stdout",
     "output_type": "stream",
     "text": [
      "2\n",
      "-------\n",
      "[1 2]\n",
      "-------\n",
      "[2 3 4 5 6]\n",
      "-------\n",
      "[4 5 6]\n"
     ]
    }
   ],
   "source": [
    "#extração de elementos\n",
    "m = np.array([1, 2, 3, 4, 5, 6])\n",
    "# Mostra o elemento da segunda posição\n",
    "print(m[1])\n",
    "print(\"-------\")\n",
    "# Mostra o array criado a partir da posição 0, dois elementos\n",
    "print(m[0:2])\n",
    "print(\"-------\")\n",
    "# Mostra o array criado a partir da 2a posição\n",
    "# até todo o restante do array\n",
    "print(m[1:])\n",
    "print(\"-------\")\n",
    "# Mostra o array criado a partir da antepenúltima\n",
    "#posição até o final\n",
    "print(m[-3:])"
   ]
  },
  {
   "cell_type": "code",
   "execution_count": 37,
   "id": "9b5bb8e0-0da7-4494-9b11-690280b187d4",
   "metadata": {
    "tags": []
   },
   "outputs": [
    {
     "name": "stdout",
     "output_type": "stream",
     "text": [
      "[[4 5]\n",
      " [6 1]\n",
      " [7 4]]\n",
      "-------\n",
      "[4 5]\n",
      "-------\n",
      "[6 1]\n",
      "-------\n",
      "[7 4]\n",
      "-------\n",
      "[4 6 7]\n",
      "-------\n",
      "[5 1 4]\n"
     ]
    }
   ],
   "source": [
    "#extração de linhas e colunas\n",
    "l = np.array([[4, 5], [6, 1], [7, 4]])\n",
    "print(l)\n",
    "print(\"-------\")\n",
    "#primeira linha, todas as colunas\n",
    "l_linha_1 = l[0, :]\n",
    "print(l_linha_1)\n",
    "print(\"-------\")\n",
    "#segunda linha\n",
    "l_linha_2 = l[1, :]\n",
    "print(l_linha_2)\n",
    "print(\"-------\")\n",
    "#terceira linha\n",
    "l_linha_3 = l[2, :]\n",
    "print(l_linha_3)\n",
    "print(\"-------\")\n",
    "#todas as linhas, primeira coluna\n",
    "l_coluna_1 = l[:, 0]\n",
    "print(l_coluna_1)\n",
    "print(\"-------\")\n",
    "#todas as linhas, segunda coluna\n",
    "l_coluna_2 = l[:, 1]\n",
    "print(l_coluna_2)"
   ]
  },
  {
   "cell_type": "code",
   "execution_count": 38,
   "id": "799d1614-5611-4663-8465-feb5ed35d3bd",
   "metadata": {
    "tags": []
   },
   "outputs": [
    {
     "name": "stdout",
     "output_type": "stream",
     "text": [
      "[[2 3]\n",
      " [4 5]]\n",
      "-------\n",
      "[[1 2]\n",
      " [3 4]]\n",
      "-------\n",
      "[[3 3]\n",
      " [5 5]\n",
      " [7 7]]\n"
     ]
    }
   ],
   "source": [
    "#adição e multiplicação de matrizes\n",
    "n = np.array([[1, 2], [3, 4]])\n",
    "o = np.array([[1, 1], [1, 1]])\n",
    "res1 = n+o\n",
    "print(res1)\n",
    "print(\"-------\")\n",
    "res2 = n*o\n",
    "print(res2)\n",
    "print(\"-------\")\n",
    "p = np.array([[1, 2], [3, 4], [5, 6]])\n",
    "q = np.array([[2, 1]])\n",
    "print(p+q)"
   ]
  },
  {
   "cell_type": "code",
   "execution_count": 43,
   "id": "06f3cdf3-4a38-4448-a394-1ccb0267d7b5",
   "metadata": {
    "tags": []
   },
   "outputs": [
    {
     "name": "stdout",
     "output_type": "stream",
     "text": [
      "[[ 0  1  2  3  4]\n",
      " [ 5  6  7  8  9]\n",
      " [10 11 12 13 14]]\n",
      "-------\n",
      "[[ 0  5 10]\n",
      " [ 1  6 11]\n",
      " [ 2  7 12]\n",
      " [ 3  8 13]\n",
      " [ 4  9 14]]\n",
      "[[ 0  5 10]\n",
      " [ 1  6 11]\n",
      " [ 2  7 12]\n",
      " [ 3  8 13]\n",
      " [ 4  9 14]]\n"
     ]
    }
   ],
   "source": [
    "# transposição, rearranja um conjunto de 15 elementos de 0 a 14 \n",
    "# em 3 linhas e 5 colunas.\n",
    "f = np.arange(15).reshape((3, 5))\n",
    "\n",
    "# mostra a matrizes transposta entre linha e coluna\n",
    "print(f)\n",
    "print(\"-------\")\n",
    "transposta = f.T\n",
    "print(transposta)\n",
    "\n",
    "# outra forma\n",
    "transposta2 = f.transpose((1,0))\n",
    "print(transposta2)"
   ]
  },
  {
   "cell_type": "code",
   "execution_count": 44,
   "id": "c68b65d4-68e7-499d-be12-e1c9d5d6671d",
   "metadata": {
    "tags": []
   },
   "outputs": [
    {
     "name": "stdout",
     "output_type": "stream",
     "text": [
      "[[ 1.46733679  0.81284326 -1.48622672  0.94107804]\n",
      " [-0.29470331  0.79753466  1.85236538  1.72538835]\n",
      " [-1.62784414 -0.06508363 -0.24886897 -0.73786572]\n",
      " [-0.72332083 -1.52689428 -0.06092291 -0.44869219]]\n",
      "[[ True  True False  True]\n",
      " [False  True  True  True]\n",
      " [False False False False]\n",
      " [False False False False]]\n",
      "[[ 1  1 -1  1]\n",
      " [-1  1  1  1]\n",
      " [-1 -1 -1 -1]\n",
      " [-1 -1 -1 -1]]\n"
     ]
    }
   ],
   "source": [
    "#expressões lógicas\n",
    "\n",
    "# criando matriz com valores aleatórios positivos e negativos\n",
    "v = np.random.randn(4, 4)\n",
    "print(v)\n",
    "# criando matriz com valores booleanos baseado no array v\n",
    "x = (v > 0)\n",
    "print(x)\n",
    "# criando matriz com valores -1 e 1 baseado nos valores do array x\n",
    "z = np.where(x > 0, 1, -1)\n",
    "print(z)\n"
   ]
  },
  {
   "cell_type": "code",
   "execution_count": null,
   "id": "ac6b9fbf-0854-4c3d-a243-a008868b9732",
   "metadata": {},
   "outputs": [],
   "source": []
  }
 ],
 "metadata": {
  "kernelspec": {
   "display_name": "Python 3 (ipykernel)",
   "language": "python",
   "name": "python3"
  },
  "language_info": {
   "codemirror_mode": {
    "name": "ipython",
    "version": 3
   },
   "file_extension": ".py",
   "mimetype": "text/x-python",
   "name": "python",
   "nbconvert_exporter": "python",
   "pygments_lexer": "ipython3",
   "version": "3.11.5"
  }
 },
 "nbformat": 4,
 "nbformat_minor": 5
}
